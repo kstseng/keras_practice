{
 "cells": [
  {
   "cell_type": "code",
   "execution_count": 1,
   "metadata": {
    "collapsed": true
   },
   "outputs": [],
   "source": [
    "import numpy as np\n",
    "np.random.seed(1337)"
   ]
  },
  {
   "cell_type": "code",
   "execution_count": 2,
   "metadata": {
    "collapsed": true
   },
   "outputs": [],
   "source": [
    "from keras.datasets import mnist\n",
    "from keras.utils import np_utils\n",
    "from keras.models import Sequential\n",
    "from keras.layers import SimpleRNN, Activation, Dense\n",
    "from keras.optimizers import Adam"
   ]
  },
  {
   "cell_type": "code",
   "execution_count": 3,
   "metadata": {
    "collapsed": true
   },
   "outputs": [],
   "source": [
    "## param\n",
    "TIME_STEPS = 28\n",
    "INPUT_SIZE = 28\n",
    "BATCH_SIZE = 50\n",
    "BATCH_INDEX = 0\n",
    "OUTPUT_SIZE = 10\n",
    "CELL_SIZE = 50\n",
    "LR = 0.001"
   ]
  },
  {
   "cell_type": "code",
   "execution_count": 12,
   "metadata": {
    "collapsed": true
   },
   "outputs": [],
   "source": [
    "## Load data\n",
    "(X_train, y_train), (X_test, y_test) = mnist.load_data()"
   ]
  },
  {
   "cell_type": "code",
   "execution_count": 13,
   "metadata": {
    "collapsed": false
   },
   "outputs": [],
   "source": [
    "## data-processing\n",
    "X_train = X_train.reshape(-1, 28, 28)/255.\n",
    "X_test = X_test.reshape(-1, 28, 28)/255.\n",
    "y_train = np_utils.to_categorical(y_train, nb_classes=10)\n",
    "y_test = np_utils.to_categorical(y_test, nb_classes=10)"
   ]
  },
  {
   "cell_type": "code",
   "execution_count": 14,
   "metadata": {
    "collapsed": true
   },
   "outputs": [],
   "source": [
    "## Build RNN\n",
    "model = Sequential()"
   ]
  },
  {
   "cell_type": "code",
   "execution_count": 17,
   "metadata": {
    "collapsed": false
   },
   "outputs": [],
   "source": [
    "## RNN cell\n",
    "model.add(SimpleRNN(\n",
    "        batch_input_shape=(BATCH_SIZE, TIME_STEPS, INPUT_SIZE), \n",
    "        # input_dim=INPUT_SIZE, input_length=TIME_STEPS,\n",
    "        output_dim=CELL_SIZE, \n",
    "        unroll=True,)\n",
    "        )"
   ]
  },
  {
   "cell_type": "code",
   "execution_count": 18,
   "metadata": {
    "collapsed": false
   },
   "outputs": [],
   "source": [
    "## output layer\n",
    "model.add(Dense(OUTPUT_SIZE))\n",
    "model.add(Activation('softmax'))"
   ]
  },
  {
   "cell_type": "code",
   "execution_count": 19,
   "metadata": {
    "collapsed": true
   },
   "outputs": [],
   "source": [
    "## optimizer\n",
    "adam = Adam(LR)\n",
    "model.compile(optimizer=adam, loss='categorical_crossentropy', metrics=['accuracy'])"
   ]
  },
  {
   "cell_type": "code",
   "execution_count": 20,
   "metadata": {
    "collapsed": false
   },
   "outputs": [
    {
     "name": "stdout",
     "output_type": "stream",
     "text": [
      "test cost:  2.34270215034\n",
      "test accuracy:  0.107400000095\n",
      "test cost:  0.612419605255\n",
      "test accuracy:  0.805999994278\n",
      "test cost:  0.443839222193\n",
      "test accuracy:  0.865100026131\n",
      "test cost:  0.404246240854\n",
      "test accuracy:  0.878300011158\n",
      "test cost:  0.305367469788\n",
      "test accuracy:  0.904600024223\n",
      "test cost:  0.285450160503\n",
      "test accuracy:  0.914900004864\n",
      "test cost:  0.251650631428\n",
      "test accuracy:  0.924099981785\n",
      "test cost:  0.246133521199\n",
      "test accuracy:  0.929400026798\n",
      "test cost:  0.251127511263\n",
      "test accuracy:  0.925999999046\n"
     ]
    }
   ],
   "source": [
    "## training\n",
    "for step in range(4001):\n",
    "    X_batch = X_train[BATCH_INDEX: BATCH_SIZE + BATCH_INDEX, :, : ]\n",
    "    y_batch = y_train[BATCH_INDEX: BATCH_SIZE + BATCH_INDEX, :]\n",
    "    cost = model.train_on_batch(X_batch, y_batch)\n",
    "    \n",
    "    BATCH_INDEX += BATCH_SIZE\n",
    "    BATCH_INDEX = 0 if BATCH_INDEX >= X_train.shape[0] else BATCH_INDEX\n",
    "    \n",
    "    if step % 500 == 0:\n",
    "        cost, accuracy = model.evaluate(X_test, y_test, batch_size=y_test.shape[0], verbose=False)\n",
    "        print('test cost: ', cost)\n",
    "        print('test accuracy: ', accuracy)"
   ]
  },
  {
   "cell_type": "code",
   "execution_count": null,
   "metadata": {
    "collapsed": true
   },
   "outputs": [],
   "source": []
  }
 ],
 "metadata": {
  "kernelspec": {
   "display_name": "Python [conda root]",
   "language": "python",
   "name": "conda-root-py"
  },
  "language_info": {
   "codemirror_mode": {
    "name": "ipython",
    "version": 3
   },
   "file_extension": ".py",
   "mimetype": "text/x-python",
   "name": "python",
   "nbconvert_exporter": "python",
   "pygments_lexer": "ipython3",
   "version": "3.5.2"
  }
 },
 "nbformat": 4,
 "nbformat_minor": 1
}
